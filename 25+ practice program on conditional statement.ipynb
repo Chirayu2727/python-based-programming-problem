{
 "cells": [
  {
   "cell_type": "code",
   "execution_count": 1,
   "id": "24fd9e08",
   "metadata": {},
   "outputs": [
    {
     "name": "stdout",
     "output_type": "stream",
     "text": [
      "enter age:12\n",
      "you cant\n"
     ]
    }
   ],
   "source": [
    "vote=int(input(\"enter age:\"))\n",
    "if vote>=18:\n",
    "    print(\"you can vote\")\n",
    "else:\n",
    "    print(\"you cant\")\n",
    "    "
   ]
  },
  {
   "cell_type": "code",
   "execution_count": 3,
   "id": "53fd8f9f",
   "metadata": {},
   "outputs": [
    {
     "name": "stdout",
     "output_type": "stream",
     "text": [
      "enter nmber:23\n",
      "odd\n"
     ]
    }
   ],
   "source": [
    "number=int(input(\"enter nmber:\"))\n",
    "if number%2==0:\n",
    "        print(\"even\")\n",
    "else:\n",
    "    print(\"odd\")"
   ]
  },
  {
   "cell_type": "code",
   "execution_count": 4,
   "id": "fb26676f",
   "metadata": {},
   "outputs": [
    {
     "name": "stdout",
     "output_type": "stream",
     "text": [
      "enter nmber:56\n",
      "divisible\n"
     ]
    }
   ],
   "source": [
    "number=int(input(\"enter nmber:\"))\n",
    "if number%7==0:\n",
    "        print(\"divisible\")\n",
    "else:\n",
    "    print(\"not divisible\")"
   ]
  },
  {
   "cell_type": "code",
   "execution_count": 5,
   "id": "46edff00",
   "metadata": {},
   "outputs": [
    {
     "name": "stdout",
     "output_type": "stream",
     "text": [
      "enter nmber:34\n",
      "bye\n"
     ]
    }
   ],
   "source": [
    "number=int(input(\"enter nmber:\"))\n",
    "if number%5==0:\n",
    "        print(\"hello\")\n",
    "else:\n",
    "    print(\"bye\")"
   ]
  },
  {
   "cell_type": "code",
   "execution_count": 13,
   "id": "047523bd",
   "metadata": {},
   "outputs": [
    {
     "name": "stdout",
     "output_type": "stream",
     "text": [
      "enter nmber:567\n",
      "bill_price=  5170\n"
     ]
    }
   ],
   "source": [
    "unit=int(input(\"enter nmber:\"))\n",
    "if 0<unit<100:\n",
    "    amt=0\n",
    "    print(\"no charge\")\n",
    "if 100<unit<200:\n",
    "    amt=(unit-100)*5\n",
    "    \n",
    "    print(\"bill_price= \",amt)\n",
    "if unit>200:\n",
    "  \n",
    "    amt=500+(unit-100)*10\n",
    "    print(\"bill_price= \",amt)\n",
    "else:\n",
    " print(\"invalid\")\n",
    "\n"
   ]
  },
  {
   "cell_type": "code",
   "execution_count": 16,
   "id": "e644cf33",
   "metadata": {},
   "outputs": [
    {
     "name": "stdout",
     "output_type": "stream",
     "text": [
      "number: 5\n"
     ]
    }
   ],
   "source": [
    "number=105\n",
    "if number%10:\n",
    "    print(\"number:\",number%10)\n",
    "else:\n",
    "    print(\"grr\")"
   ]
  },
  {
   "cell_type": "code",
   "execution_count": 18,
   "id": "681edfc1",
   "metadata": {},
   "outputs": [
    {
     "name": "stdout",
     "output_type": "stream",
     "text": [
      "enter number:34\n",
      "not dvsible\n"
     ]
    }
   ],
   "source": [
    "number=int(input(\"enter number:\"))\n",
    "x=number%10\n",
    "if x%3==0:\n",
    "    print(\"number iis divisible: \",number)\n",
    "else:\n",
    "    print(\"not dvsible\")"
   ]
  },
  {
   "cell_type": "code",
   "execution_count": null,
   "id": "30183391",
   "metadata": {},
   "outputs": [],
   "source": [
    "bike=int(input(\"enter price of bike\"))\n",
    "if bike >100000:\n",
    "        tax=bike*.15\n",
    "        print(\"tax will be 15% dedcute :\",tax)\n",
    "if 50000<=bike<=100000:\n",
    "        tax=bike*.10\n",
    "        print(\"tax will be 10% dedcute :\",tax)\n",
    "\n",
    "if bike<=50000:\n",
    "    tax=bike*0.5\n",
    "    print(\"tax will be 5% dedcute :\",tax)"
   ]
  },
  {
   "cell_type": "markdown",
   "id": "d14d1d40",
   "metadata": {},
   "source": [
    "bike=int(input(\"enter price of bike\"))\n",
    "if bike >100000:\n",
    "        tax=bike*.15\n",
    "        print(\"tax will be 15% dedcute :\",tax)\n",
    "if 50000<=bike<=100000:\n",
    "        tax=bike*.10\n",
    "        print(\"tax will be 10% dedcute :\",tax)\n",
    "\n",
    "if bike<=50000:\n",
    "    tax=bike*0.5\n",
    "    print(\"tax will be 5% dedcute :\",tax)"
   ]
  },
  {
   "cell_type": "code",
   "execution_count": 3,
   "id": "90596d24",
   "metadata": {},
   "outputs": [
    {
     "name": "stdout",
     "output_type": "stream",
     "text": [
      "marks : 59\n",
      "gade:D\n"
     ]
    }
   ],
   "source": [
    "#write a program to accept percentage and display the grade accorcing to the following criteia\n",
    "# marks                                                    #grade\n",
    "\n",
    "marks=int(input(\"marks : \"))\n",
    "if marks>90:\n",
    "        print(\"grade :A\")\n",
    "elif  80<marks<=90:\n",
    "     print(\"grade : B\")\n",
    "elif  60<marks<=80:\n",
    "    print(\"grade:C\")\n",
    "else:\n",
    "    print(\"gade:D\")"
   ]
  },
  {
   "cell_type": "code",
   "execution_count": 6,
   "id": "b8257dce",
   "metadata": {},
   "outputs": [
    {
     "name": "stdout",
     "output_type": "stream",
     "text": [
      " enter the year:2004\n",
      "entered year is leap year\n"
     ]
    }
   ],
   "source": [
    "# check whether the year is leap or not\n",
    "yr=int(input(\" enter the year:\"))\n",
    "if yr%100==0:\n",
    "    if yr%400==0:\n",
    "        print(\"yr is leap yr\")\n",
    "    else:\n",
    "        print(\"not a leap yr\")\n",
    "else:\n",
    "    if yr%4==0:\n",
    "        print(\"entered year is leap year\")\n",
    "    else:\n",
    "        print(\"entered year is not a leap year\")"
   ]
  },
  {
   "cell_type": "code",
   "execution_count": 14,
   "id": "7ddc977d",
   "metadata": {},
   "outputs": [
    {
     "name": "stdout",
     "output_type": "stream",
     "text": [
      "enter the number:5\n",
      "thursday\n"
     ]
    }
   ],
   "source": [
    "# program to accept a numbrr from 1 to 7 and show the name of weekdays\n",
    "num=int(input(\"enter the number:\"))\n",
    "if num==1:\n",
    "        print(\"sunday\")\n",
    "elif num==2:\n",
    "        print(\"monday\")\n",
    "elif num==3:\n",
    "        print(\"tuesday\")\n",
    "elif num==4:\n",
    "        print(\"wednesday\")\n",
    "elif num==5:\n",
    "        print(\"thursday\")\n",
    "elif num==6:\n",
    "        print(\"firday\")\n",
    "elif num==7:\n",
    "        print(\"saturday\")\n",
    "else:\n",
    "    print(\"enter invalid number\")\n",
    "    "
   ]
  },
  {
   "cell_type": "code",
   "execution_count": null,
   "id": "6c8f4608",
   "metadata": {},
   "outputs": [],
   "source": [
    "# create same program where you have to print 1 to 12 month name \n",
    "# for examplee month like one and days are 31 in jan"
   ]
  },
  {
   "cell_type": "code",
   "execution_count": null,
   "id": "a3c48eef",
   "metadata": {},
   "outputs": [],
   "source": [
    "#write logical expression for A is greater than b and c is greater than d\n",
    "a=int(input(\"A:\"))\n",
    "b=int(input(\"B:\"))\n",
    "c=int(input(\"C:\"))\n",
    "d=int(input(\"D:\"))\n",
    "if (a>b and c>d):\n",
    "    print(\"logical expression of a>b and c>d\")\n",
    "else:\n",
    "    Print(\"invalid input\")"
   ]
  },
  {
   "cell_type": "code",
   "execution_count": null,
   "id": "7ca46a65",
   "metadata": {},
   "outputs": [],
   "source": [
    "# accept any city from the user and display monument of that city\n",
    "# for example delhi have red frot\n",
    "\n",
    "city=input(\"enter city name:\")\n",
    "\n",
    "if city==\"agra\":\n",
    "    print(\"monument in agra is taj mahal\")\n",
    "if  city==\"delhi\":\n",
    "    print(\" red fort\")\n",
    "if  city==\"jaipur\":\n",
    "    print(\"jal mahal\")\n",
    "    \n",
    "else:\n",
    "    print(\"enter valid spelling \")"
   ]
  },
  {
   "cell_type": "code",
   "execution_count": null,
   "id": "e706b503",
   "metadata": {},
   "outputs": [],
   "source": [
    "if a=3*3:\n",
    "if (a>5 and a<=10):\n",
    "    print(\"hello\")\n",
    "else:\n",
    "    print(\"bye\")"
   ]
  },
  {
   "cell_type": "code",
   "execution_count": null,
   "id": "f0ee70a6",
   "metadata": {},
   "outputs": [],
   "source": [
    "num=int(input(\"enter number\"))\n",
    "if num%1000:\n",
    "    print(\"divisible\")\n",
    "else:\n",
    "    print(\"number is more than 3 digits\")"
   ]
  },
  {
   "cell_type": "code",
   "execution_count": null,
   "id": "adbd644f",
   "metadata": {},
   "outputs": [],
   "source": []
  },
  {
   "cell_type": "code",
   "execution_count": null,
   "id": "1388f3d9",
   "metadata": {},
   "outputs": [],
   "source": []
  }
 ],
 "metadata": {
  "kernelspec": {
   "display_name": "Python 3 (ipykernel)",
   "language": "python",
   "name": "python3"
  },
  "language_info": {
   "codemirror_mode": {
    "name": "ipython",
    "version": 3
   },
   "file_extension": ".py",
   "mimetype": "text/x-python",
   "name": "python",
   "nbconvert_exporter": "python",
   "pygments_lexer": "ipython3",
   "version": "3.11.3"
  }
 },
 "nbformat": 4,
 "nbformat_minor": 5
}
