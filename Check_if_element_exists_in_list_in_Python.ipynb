{
  "nbformat": 4,
  "nbformat_minor": 0,
  "metadata": {
    "colab": {
      "provenance": []
    },
    "kernelspec": {
      "name": "python3",
      "display_name": "Python 3"
    },
    "language_info": {
      "name": "python"
    }
  },
  "cells": [
    {
      "cell_type": "code",
      "execution_count": 1,
      "metadata": {
        "colab": {
          "base_uri": "https://localhost:8080/"
        },
        "id": "bq1FlNOMbv9d",
        "outputId": "a64b9b05-464d-420d-c7f5-25f16ad71db9"
      },
      "outputs": [
        {
          "output_type": "stream",
          "name": "stdout",
          "text": [
            "give element to check: 234\n",
            "this element  doesn't belongs to this ls\n"
          ]
        }
      ],
      "source": [
        "x=int(input(\"give element to check: \"))                                          #testcase=234\n",
        "ls=[2,4,5,6,34,7,283,83,23]\n",
        "if x in ls:\n",
        "   print(\"this element belongs to this ls\")\n",
        "else:\n",
        "  print(\"this element  doesn't belongs to this ls\")"
      ]
    },
    {
      "cell_type": "code",
      "source": [
        "x=int(input(\"give element to check: \"))                                         #tescase=283\n",
        "\n",
        "ls=[2,4,5,6,34,7,283,83,23]\n",
        "if x in ls:\n",
        "   print(\"this element belongs to this ls\")\n",
        "else:\n",
        "  print(\"this element  doesn't belongs to this ls\")"
      ],
      "metadata": {
        "colab": {
          "base_uri": "https://localhost:8080/"
        },
        "id": "edcj3A1zcbug",
        "outputId": "adaecbe1-f330-41f6-dd22-20707aca0d99"
      },
      "execution_count": 2,
      "outputs": [
        {
          "output_type": "stream",
          "name": "stdout",
          "text": [
            "give element to check: 283\n",
            "this element belongs to this ls\n"
          ]
        }
      ]
    },
    {
      "cell_type": "code",
      "source": [],
      "metadata": {
        "id": "JGgTMWxgcvRp"
      },
      "execution_count": null,
      "outputs": []
    }
  ]
}