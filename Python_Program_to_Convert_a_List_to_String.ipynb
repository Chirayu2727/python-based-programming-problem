{
  "nbformat": 4,
  "nbformat_minor": 0,
  "metadata": {
    "colab": {
      "provenance": []
    },
    "kernelspec": {
      "name": "python3",
      "display_name": "Python 3"
    },
    "language_info": {
      "name": "python"
    }
  },
  "cells": [
    {
      "cell_type": "code",
      "source": [
        "l=['c','f','c']    # list\n",
        "str1=\" \"            #empty string\n",
        "print(str1.join(l))  #joining l into str1"
      ],
      "metadata": {
        "colab": {
          "base_uri": "https://localhost:8080/"
        },
        "id": "eORJYRv_S29w",
        "outputId": "ebdae3d0-29e4-4d72-cf6c-f8f91d70eb6e"
      },
      "execution_count": 10,
      "outputs": [
        {
          "output_type": "stream",
          "name": "stdout",
          "text": [
            "c f c\n"
          ]
        }
      ]
    },
    {
      "cell_type": "code",
      "source": [],
      "metadata": {
        "id": "ssE2-GmuTjDo"
      },
      "execution_count": null,
      "outputs": []
    }
  ]
}