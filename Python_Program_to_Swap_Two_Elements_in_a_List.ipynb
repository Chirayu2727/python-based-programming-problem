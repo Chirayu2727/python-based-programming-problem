{
  "nbformat": 4,
  "nbformat_minor": 0,
  "metadata": {
    "colab": {
      "provenance": []
    },
    "kernelspec": {
      "name": "python3",
      "display_name": "Python 3"
    },
    "language_info": {
      "name": "python"
    }
  },
  "cells": [
    {
      "cell_type": "code",
      "execution_count": 5,
      "metadata": {
        "id": "aFlhFrpPZkuF"
      },
      "outputs": [],
      "source": [
        "ls=[1,3,5,7,8,9]\n",
        "x=0\n",
        "y=2\n",
        "z=1\n",
        "k=4\n",
        "def swap(ls):\n",
        "   ls[x],ls[y]=ls[z],ls[k]\n",
        "   return ls"
      ]
    },
    {
      "cell_type": "code",
      "source": [
        "swap(ls)"
      ],
      "metadata": {
        "colab": {
          "base_uri": "https://localhost:8080/"
        },
        "id": "FPwRTSQRaEDC",
        "outputId": "36f75d61-63ed-4baa-94e9-6f0feddfd578"
      },
      "execution_count": 3,
      "outputs": [
        {
          "output_type": "execute_result",
          "data": {
            "text/plain": [
              "[1, 7, 8, 7, 8, 9]"
            ]
          },
          "metadata": {},
          "execution_count": 3
        }
      ]
    },
    {
      "cell_type": "code",
      "source": [],
      "metadata": {
        "id": "CeUGOLQoaN6S"
      },
      "execution_count": null,
      "outputs": []
    }
  ]
}