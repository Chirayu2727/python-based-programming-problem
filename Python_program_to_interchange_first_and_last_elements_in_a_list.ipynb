{
  "nbformat": 4,
  "nbformat_minor": 0,
  "metadata": {
    "colab": {
      "provenance": []
    },
    "kernelspec": {
      "name": "python3",
      "display_name": "Python 3"
    },
    "language_info": {
      "name": "python"
    }
  },
  "cells": [
    {
      "cell_type": "code",
      "execution_count": 8,
      "metadata": {
        "colab": {
          "base_uri": "https://localhost:8080/"
        },
        "id": "MSe4VXJ8XYBC",
        "outputId": "77b75820-93ec-4bd0-9abe-fa26cb77b443"
      },
      "outputs": [
        {
          "output_type": "stream",
          "name": "stdout",
          "text": [
            "1\n",
            "5\n",
            "1 5\n"
          ]
        }
      ],
      "source": [
        "ls=[1,2,3,4,5]\n",
        "y=ls[0]              #  y is first element\n",
        "print(y)\n",
        "x=ls[len(ls)-1]       # x is last element\n",
        "print(x)\n",
        "x,y=y,x\n",
        "print(x,y)"
      ]
    },
    {
      "cell_type": "code",
      "source": [
        "# Python3 program to swap first\n",
        "# and last element of a list\n",
        "\n",
        "# Swap function\n",
        "def swapList(newList):\n",
        "\n",
        "    newList[0], newList[-1] = newList[-1], newList[0]\n",
        "\n",
        "    return newList\n",
        "\n",
        "# Driver code\n",
        "newList = [12, 35, 9, 56, 24]\n",
        "print(swapList(newList))"
      ],
      "metadata": {
        "colab": {
          "base_uri": "https://localhost:8080/"
        },
        "id": "J9Ro8d3JYBiY",
        "outputId": "e58a5f04-b0cd-42d7-c961-be4257c552f9"
      },
      "execution_count": 9,
      "outputs": [
        {
          "output_type": "stream",
          "name": "stdout",
          "text": [
            "[24, 35, 9, 56, 12]\n"
          ]
        }
      ]
    },
    {
      "cell_type": "code",
      "source": [],
      "metadata": {
        "id": "9U_bBgBhZMIv"
      },
      "execution_count": null,
      "outputs": []
    }
  ]
}