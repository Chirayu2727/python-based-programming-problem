{
  "nbformat": 4,
  "nbformat_minor": 0,
  "metadata": {
    "colab": {
      "provenance": []
    },
    "kernelspec": {
      "name": "python3",
      "display_name": "Python 3"
    },
    "language_info": {
      "name": "python"
    }
  },
  "cells": [
    {
      "cell_type": "code",
      "execution_count": 53,
      "metadata": {
        "colab": {
          "base_uri": "https://localhost:8080/"
        },
        "id": "5V9y2AFKQOxc",
        "outputId": "439d19ca-4e1b-4381-e739-2fc49571db51"
      },
      "outputs": [
        {
          "output_type": "stream",
          "name": "stdout",
          "text": [
            "55\n"
          ]
        }
      ],
      "source": [
        "# Write a Python function to sum all the numbers in a list.\n",
        "ls=[1,2,3,4,5,6,7,8,9,10]\n",
        "def sum(numbers):\n",
        "    total = 0\n",
        "    for x in numbers:\n",
        "        total += x\n",
        "    return total\n",
        "print(sum(ls))"
      ]
    },
    {
      "cell_type": "code",
      "source": [],
      "metadata": {
        "id": "K-47WkjuU13m"
      },
      "execution_count": null,
      "outputs": []
    }
  ]
}