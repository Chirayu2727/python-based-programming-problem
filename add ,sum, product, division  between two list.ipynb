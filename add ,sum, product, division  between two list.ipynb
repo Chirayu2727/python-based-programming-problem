{
 "cells": [
  {
   "cell_type": "code",
   "execution_count": 7,
   "id": "5912b583",
   "metadata": {},
   "outputs": [
    {
     "name": "stdout",
     "output_type": "stream",
     "text": [
      "list1: [2, 4, 53, 56, 44, 23, 77, 169]\n",
      "list2: [5, 4, 5, 43, 5, 3, 54, 3]\n",
      " list subrtaction: [3, 0, -48, -13, -39, -20, -23, -166]\n",
      "list addition: [7, 8, 58, 99, 49, 26, 131, 172]\n",
      "list production: [10, 16, 265, 2408, 220, 69, 4158, 507]\n",
      "list division; [2.5, 1.0, 0.09433962264150944, 0.7678571428571429, 0.11363636363636363, 0.13043478260869565, 0.7012987012987013, 0.01775147928994083]\n"
     ]
    }
   ],
   "source": [
    "# arithemetic operator between two list \n",
    "\n",
    "ls1=[2,4,53,56,44,23,77,169]                            #list1\n",
    "ls2=[5,4,5,43,5,3,54,3]                                 #list2\n",
    "ls_add=[]                                                #empty list for add,sub,product,division\n",
    "ls_sub=[]\n",
    "ls_product=[]\n",
    "ls_division=[]\n",
    "\n",
    "\n",
    "n=len(ls1)                                          \n",
    "for i in range(n):\n",
    "    ls_sub.append(ls2[i]-ls1[i])                         #appending sub ,add,product,division\n",
    "    ls_add.append(ls2[i]+ls1[i])\n",
    "    ls_product.append(ls2[i]*ls1[i])\n",
    "    ls_division.append(ls2[i]/ls1[i])\n",
    "                                                            #printing list\n",
    "print(\"list1:\",ls1)\n",
    "print(\"list2:\",ls2)\n",
    "print(\" list subrtaction:\",ls_sub)\n",
    "print(\"list addition:\",ls_add)\n",
    "print(\"list production:\",ls_product)\n",
    "print(\"list division;\",ls_division)\n"
   ]
  },
  {
   "cell_type": "code",
   "execution_count": null,
   "id": "79afd580",
   "metadata": {},
   "outputs": [],
   "source": []
  }
 ],
 "metadata": {
  "kernelspec": {
   "display_name": "Python 3 (ipykernel)",
   "language": "python",
   "name": "python3"
  },
  "language_info": {
   "codemirror_mode": {
    "name": "ipython",
    "version": 3
   },
   "file_extension": ".py",
   "mimetype": "text/x-python",
   "name": "python",
   "nbconvert_exporter": "python",
   "pygments_lexer": "ipython3",
   "version": "3.11.3"
  }
 },
 "nbformat": 4,
 "nbformat_minor": 5
}
