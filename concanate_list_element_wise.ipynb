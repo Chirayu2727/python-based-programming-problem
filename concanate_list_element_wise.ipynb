{
  "nbformat": 4,
  "nbformat_minor": 0,
  "metadata": {
    "colab": {
      "provenance": []
    },
    "kernelspec": {
      "name": "python3",
      "display_name": "Python 3"
    },
    "language_info": {
      "name": "python"
    }
  },
  "cells": [
    {
      "cell_type": "code",
      "execution_count": 5,
      "metadata": {
        "colab": {
          "base_uri": "https://localhost:8080/"
        },
        "id": "gcJ9TiySV9-J",
        "outputId": "432636a3-1af1-41cd-c8e8-7560195d27f1"
      },
      "outputs": [
        {
          "output_type": "stream",
          "name": "stdout",
          "text": [
            "The original list 1 is : ['a1', 'b1', 'c1']\n",
            "The original list 2 is : ['a2', 'b2', 'c2']\n",
            "The list after element concatenation is : ['a1a2', 'b1b2', 'c1c2']\n"
          ]
        }
      ],
      "source": [
        "\n",
        "test_list1 = ['a1','b1','c1']\n",
        "test_list2 = ['a2','b2','c2']\n",
        "# printing original lists\n",
        "print (\"The original list 1 is : \" +str(test_list1))\n",
        "print (\"The original list 2 is : \" + str(test_list2))\n",
        "res = []\n",
        "for i in range(len(test_list1)):\n",
        "    res.append(test_list1[i]+test_list2[i])\n",
        "print(\"The list after element concatenation is : \" + str(res))"
      ]
    },
    {
      "cell_type": "code",
      "source": [],
      "metadata": {
        "id": "P8IDruFtWZ58"
      },
      "execution_count": null,
      "outputs": []
    }
  ]
}