{
 "cells": [
  {
   "cell_type": "code",
   "execution_count": 1,
   "id": "a2c8edb2",
   "metadata": {},
   "outputs": [
    {
     "name": "stdout",
     "output_type": "stream",
     "text": [
      "2.9963000000018987 is close to the cube root of 27\n"
     ]
    }
   ],
   "source": [
    "# Python program to approximate\n",
    "# the cube root of 27\n",
    "guess = 0.0\n",
    "cube = 27\n",
    "increment = 0.0001\n",
    "epsilon = 0.1\n",
    "\n",
    "# Finding the approximate value\n",
    "while abs(guess**3 - cube) >= epsilon:\n",
    "\tguess+=increment\n",
    "\n",
    "# Checking the approximate value\n",
    "if abs(guess**3 - cube) >= epsilon:\n",
    "\tprint(\"Failed on the cube root of\",cube)\n",
    "else:\n",
    "\tprint(guess,\"is close to the cube root of\",cube)\n"
   ]
  },
  {
   "cell_type": "code",
   "execution_count": null,
   "id": "3ca97e0c",
   "metadata": {},
   "outputs": [],
   "source": []
  }
 ],
 "metadata": {
  "kernelspec": {
   "display_name": "Python 3 (ipykernel)",
   "language": "python",
   "name": "python3"
  },
  "language_info": {
   "codemirror_mode": {
    "name": "ipython",
    "version": 3
   },
   "file_extension": ".py",
   "mimetype": "text/x-python",
   "name": "python",
   "nbconvert_exporter": "python",
   "pygments_lexer": "ipython3",
   "version": "3.11.3"
  }
 },
 "nbformat": 4,
 "nbformat_minor": 5
}
