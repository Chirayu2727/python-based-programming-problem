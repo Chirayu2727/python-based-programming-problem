{
  "nbformat": 4,
  "nbformat_minor": 0,
  "metadata": {
    "colab": {
      "provenance": []
    },
    "kernelspec": {
      "name": "python3",
      "display_name": "Python 3"
    },
    "language_info": {
      "name": "python"
    }
  },
  "cells": [
    {
      "cell_type": "code",
      "execution_count": 1,
      "metadata": {
        "colab": {
          "base_uri": "https://localhost:8080/"
        },
        "id": "m5ZJgVlZprb_",
        "outputId": "62cdc7e9-d4d4-4de1-9114-4efd0386c97f"
      },
      "outputs": [
        {
          "output_type": "stream",
          "name": "stdout",
          "text": [
            "Enter first number: 10\n",
            "Enter second number: 45\n",
            "The L.C.M. of 10 and 45 is 90\n"
          ]
        }
      ],
      "source": [
        "\n",
        "\n",
        "# defining a function to calculate LCM\n",
        "def calculate_lcm(x, y):\n",
        "    # selecting the greater number\n",
        "    if x > y:\n",
        "        greater = x\n",
        "    else:\n",
        "        greater = y\n",
        "    while(True):\n",
        "        if((greater % x == 0) and (greater % y == 0)):\n",
        "            lcm = greater\n",
        "            break\n",
        "        greater += 1\n",
        "    return lcm\n",
        "\n",
        "# taking input from users\n",
        "num1 = int(input(\"Enter first number: \"))\n",
        "num2 = int(input(\"Enter second number: \"))\n",
        "# printing the result for the users\n",
        "print(\"The L.C.M. of\", num1,\"and\", num2,\"is\", calculate_lcm(num1, num2))"
      ]
    },
    {
      "cell_type": "code",
      "source": [],
      "metadata": {
        "id": "YEVtU08jp3yo"
      },
      "execution_count": null,
      "outputs": []
    }
  ]
}