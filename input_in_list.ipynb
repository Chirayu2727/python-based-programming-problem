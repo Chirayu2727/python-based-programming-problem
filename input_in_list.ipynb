{
  "nbformat": 4,
  "nbformat_minor": 0,
  "metadata": {
    "colab": {
      "provenance": []
    },
    "kernelspec": {
      "name": "python3",
      "display_name": "Python 3"
    },
    "language_info": {
      "name": "python"
    }
  },
  "cells": [
    {
      "cell_type": "code",
      "execution_count": 2,
      "metadata": {
        "colab": {
          "base_uri": "https://localhost:8080/"
        },
        "id": "ZcE5wmK4nfv8",
        "outputId": "2a6e51f2-5e1a-4dab-f5ff-8a87c7401c2a"
      },
      "outputs": [
        {
          "output_type": "stream",
          "name": "stdout",
          "text": [
            "list before: []\n",
            "enter the number:3\n",
            "[]\n",
            "enter element:1\n",
            "enter element:3\n",
            "enter element:5\n",
            "list: [1, 3, 5]\n"
          ]
        }
      ],
      "source": [
        "ls=[]\n",
        "print(\"list before:\",ls)\n",
        "n=int(input(\"enter the number:\"))\n",
        "print(ls)\n",
        "for i in range(n):\n",
        "    ls.append(int(input(\"enter element:\")))\n",
        "print(\"list:\",ls)"
      ]
    },
    {
      "cell_type": "code",
      "source": [],
      "metadata": {
        "id": "CKzwqA-Dngqv"
      },
      "execution_count": null,
      "outputs": []
    }
  ]
}