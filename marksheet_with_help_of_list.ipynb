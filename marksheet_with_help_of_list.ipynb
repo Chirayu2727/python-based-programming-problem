{
  "nbformat": 4,
  "nbformat_minor": 0,
  "metadata": {
    "colab": {
      "provenance": []
    },
    "kernelspec": {
      "name": "python3",
      "display_name": "Python 3"
    },
    "language_info": {
      "name": "python"
    }
  },
  "cells": [
    {
      "cell_type": "code",
      "execution_count": null,
      "metadata": {
        "colab": {
          "base_uri": "https://localhost:8080/"
        },
        "id": "ovKFiB-vcS0F",
        "outputId": "c47ac24a-122b-4da3-d701-092c1a7156a8"
      },
      "outputs": [
        {
          "output_type": "stream",
          "name": "stdout",
          "text": [
            "How many recored you want to enter:2\n",
            "\n",
            "Enter the 1 Student recored:\n",
            "Enter rno:12\n",
            "Enter name:raj\n",
            "Enter marks of Phy:36\n",
            "Enter marks of Chem:56\n",
            "Enter marks of Math:79\n",
            "\n",
            "Enter the 2 Student recored:\n",
            "Enter rno:13\n",
            "Enter name:eww\n",
            "Enter marks of Phy:35\n",
            "Enter marks of Chem:67\n",
            "Enter marks of Math:87\n",
            "Your choices are:\n",
            "1 for All students recored:\n",
            "2 for Recored of All Even Roll:\n",
            "3 for Recored of All Odd Roll:\n",
            "4 for Exit:\n",
            "Enter your choice:1\n",
            "\n",
            "\t Rno \t Name \t Phy \t Chem \t Math\n",
            "\t 12 \t raj \t 36 \t 56 \t 79\n",
            "\n",
            "\t Rno \t Name \t Phy \t Chem \t Math\n",
            "\t 13 \t eww \t 35 \t 67 \t 87\n",
            "Your choices are:\n",
            "1 for All students recored:\n",
            "2 for Recored of All Even Roll:\n",
            "3 for Recored of All Odd Roll:\n",
            "4 for Exit:\n"
          ]
        }
      ],
      "source": [
        "\n",
        "n=int(input(\"How many recored you want to enter:\"))\n",
        "rec=[]\n",
        "i=1\n",
        "while i<=n:\n",
        "  print(\"\\nEnter the\",i,\"Student recored:\" )\n",
        "  rno=int(input(\"Enter rno:\"))\n",
        "  name=input(\"Enter name:\")\n",
        "  p=int(input(\"Enter marks of Phy:\"))\n",
        "  c=int(input(\"Enter marks of Chem:\"))\n",
        "  m=int(input(\"Enter marks of Math:\"))\n",
        "  data=[rno,name,p,c,m]\n",
        "  rec.append(data)\n",
        "\n",
        "  i+=1\n",
        "\n",
        "while(True):\n",
        "  print(\"Your choices are:\")\n",
        "  print(\"1 for All students recored:\")\n",
        "  print(\"2 for Recored of All Even Roll:\")\n",
        "  print(\"3 for Recored of All Odd Roll:\")\n",
        "  print(\"4 for Exit:\")\n",
        "  ch=int(input(\"Enter your choice:\"))\n",
        "  if ch==1:\n",
        "    for x in rec:\n",
        "      print(\"\\n\\t Rno \\t Name \\t Phy \\t Chem \\t Math\")\n",
        "      print(\"\\t\",x[0],end=\" \\t \")\n",
        "      print(x[1],end=\" \\t \")\n",
        "      print(x[2],end=' \\t ')\n",
        "      print(x[3],end=' \\t ')\n",
        "      print(x[4])\n",
        "  elif ch==2:\n",
        "    for x in rec:\n",
        "      if x[0]%2==0:\n",
        "        print(\"\\n\\t Rno \\t Name \\t Phy \\t Chem \\t Math\")\n",
        "        print(\"\\t\",x[0],end=\" \\t \")\n",
        "        print(x[1],end=\" \\t \")\n",
        "        print(x[2],end=' \\t ')\n",
        "        print(x[3],end=' \\t ')\n",
        "        print(x[4])\n",
        "  elif ch==3:\n",
        "     for x in rec:\n",
        "       if x[0]%2!=0:\n",
        "        print(\"\\n\\t Rno \\t Name \\t Phy \\t Chem \\t Math\")\n",
        "        print(\"\\t\",x[0],end=\" \\t \")\n",
        "        print(x[1],end=\" \\t \")\n",
        "        print(x[2],end=' \\t ')\n",
        "        print(x[3],end=' \\t ')\n",
        "        print(x[4])\n",
        "  else:\n",
        "      break\n",
        "\n",
        "\"\"\"\n",
        "name=x[1]\n",
        "if name[0]=='R' or name[0]=='r':\n",
        "print(\"\\n\\t Rno \\t Name \\t Phy \\t Chem \\t Math\")\n",
        "#print(rec)\n",
        "for x in rec:\n",
        "  print(\"\\t\",x[0],end=\" \\t \")\n",
        "  print(x[1],end=\" \\t \")\n",
        "  print(x[2],end=' \\t ')\n",
        "  print(x[3],end=' \\t ')\n",
        "  print(x[4])\n",
        "\"\"\""
      ]
    },
    {
      "cell_type": "code",
      "source": [],
      "metadata": {
        "id": "YnZ56Iz2c4sM"
      },
      "execution_count": null,
      "outputs": []
    }
  ]
}