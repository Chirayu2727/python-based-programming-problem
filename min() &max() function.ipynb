{
 "cells": [
  {
   "cell_type": "code",
   "execution_count": 8,
   "id": "68265933",
   "metadata": {},
   "outputs": [
    {
     "name": "stdout",
     "output_type": "stream",
     "text": [
      "maximum: 980\n",
      "miniimum: 2\n"
     ]
    }
   ],
   "source": [
    "ls=[2,5,8,77,56,980]\n",
    "a=max(ls)                              #min( )function will return minimum value \n",
    "b=min(ls)                               #max()function will return max value\n",
    "print(\"maximum:\",a)\n",
    "print(\"miniimum:\",b)"
   ]
  },
  {
   "cell_type": "code",
   "execution_count": null,
   "id": "7a9b192e",
   "metadata": {},
   "outputs": [],
   "source": []
  }
 ],
 "metadata": {
  "kernelspec": {
   "display_name": "Python 3 (ipykernel)",
   "language": "python",
   "name": "python3"
  },
  "language_info": {
   "codemirror_mode": {
    "name": "ipython",
    "version": 3
   },
   "file_extension": ".py",
   "mimetype": "text/x-python",
   "name": "python",
   "nbconvert_exporter": "python",
   "pygments_lexer": "ipython3",
   "version": "3.11.3"
  }
 },
 "nbformat": 4,
 "nbformat_minor": 5
}
