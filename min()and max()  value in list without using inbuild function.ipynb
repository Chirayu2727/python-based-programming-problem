{
 "cells": [
  {
   "cell_type": "code",
   "execution_count": 33,
   "id": "8650beea",
   "metadata": {},
   "outputs": [
    {
     "name": "stdout",
     "output_type": "stream",
     "text": [
      "max= 56\n",
      "min= 1\n"
     ]
    }
   ],
   "source": [
    "number=[1,2,3,5,51,22,56,45,34]                 # create a list \n",
    "min=number[0]\n",
    "max=number[0]\n",
    "for i in range(len(number)):\n",
    "     if number[i]>max:                      \n",
    "        max=number[i]\n",
    "        if number[i]<min:\n",
    "            min=number[i]\n",
    "        \n",
    "        \n",
    "print(\"max=\",max)\n",
    "print(\"min=\",min)"
   ]
  },
  {
   "cell_type": "code",
   "execution_count": null,
   "id": "8750ff02",
   "metadata": {},
   "outputs": [],
   "source": []
  }
 ],
 "metadata": {
  "kernelspec": {
   "display_name": "Python 3 (ipykernel)",
   "language": "python",
   "name": "python3"
  },
  "language_info": {
   "codemirror_mode": {
    "name": "ipython",
    "version": 3
   },
   "file_extension": ".py",
   "mimetype": "text/x-python",
   "name": "python",
   "nbconvert_exporter": "python",
   "pygments_lexer": "ipython3",
   "version": "3.11.3"
  }
 },
 "nbformat": 4,
 "nbformat_minor": 5
}
