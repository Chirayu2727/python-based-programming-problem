{
 "cells": [
  {
   "cell_type": "code",
   "execution_count": 5,
   "id": "128aa609",
   "metadata": {},
   "outputs": [
    {
     "name": "stdout",
     "output_type": "stream",
     "text": [
      "[2, 4, 6, 8, 33, 45, 67, 77, 89, 89, 567]\n",
      "second miminum number: 4\n",
      "second largest numbrer: 89\n"
     ]
    }
   ],
   "source": [
    "ls=[2,4,6,8,77,89,567,67,89,45,33]                                #given list we have to find the second  largest \n",
    "                                                                  # second smallest number\n",
    "ls.sort()                                                         # first we will sort \n",
    "\n",
    "print(ls)\n",
    "\n",
    "print(\"second miminum number:\",ls[1])              #second minimum number\n",
    "print(\"second largest numbrer:\",ls[-2])             #second largest number\n"
   ]
  },
  {
   "cell_type": "code",
   "execution_count": null,
   "id": "5408c522",
   "metadata": {},
   "outputs": [],
   "source": []
  },
  {
   "cell_type": "code",
   "execution_count": null,
   "id": "02a7367f",
   "metadata": {},
   "outputs": [],
   "source": []
  }
 ],
 "metadata": {
  "kernelspec": {
   "display_name": "Python 3 (ipykernel)",
   "language": "python",
   "name": "python3"
  },
  "language_info": {
   "codemirror_mode": {
    "name": "ipython",
    "version": 3
   },
   "file_extension": ".py",
   "mimetype": "text/x-python",
   "name": "python",
   "nbconvert_exporter": "python",
   "pygments_lexer": "ipython3",
   "version": "3.11.3"
  }
 },
 "nbformat": 4,
 "nbformat_minor": 5
}
