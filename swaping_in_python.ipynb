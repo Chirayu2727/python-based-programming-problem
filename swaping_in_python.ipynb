{
 "cells": [
  {
   "cell_type": "code",
   "execution_count": 11,
   "id": "45d0a347",
   "metadata": {},
   "outputs": [
    {
     "name": "stdout",
     "output_type": "stream",
     "text": [
      "10\n",
      "20\n",
      "before swapping\n",
      "------------------------------------------------------------------------------------------------------------------------\n",
      "after swapping\n",
      "20\n",
      "10\n"
     ]
    }
   ],
   "source": [
    "#swapping of two number without using 3rd variable\n",
    "a=10\n",
    "b=20\n",
    "print(a)\n",
    "print(b)\n",
    "print(\"before swapping\")\n",
    "print(\"------------------------------------------------------------------------------------------------------------------------\")\n",
    "a=a+b                        #a=30\n",
    "b=a-b                         #b=a=10\n",
    "a=a-b\n",
    "print(\"after swapping\")\n",
    "print(a)\n",
    "print(b)\n"
   ]
  },
  {
   "cell_type": "code",
   "execution_count": 10,
   "id": "12d016c0",
   "metadata": {},
   "outputs": [
    {
     "name": "stdout",
     "output_type": "stream",
     "text": [
      "10\n",
      "20\n",
      "before swapping\n",
      "------------------------------------------------------------------------------------------------------------------------\n",
      "after swapping\n",
      "20\n",
      "10\n"
     ]
    }
   ],
   "source": [
    "\n",
    "#swaping with even changing \"+\"='*', \"-\"=\"/\"\n",
    "a=10\n",
    "b=20\n",
    "print(a)\n",
    "print(b)\n",
    "print(\"before swapping\")\n",
    "print(\"------------------------------------------------------------------------------------------------------------------------\")\n",
    "a=a*b                        #a=30  , we will replace \"a=a+b\" by \"a=a*b\"\n",
    "b=a//b                         #b=a=10 we will replace \"a=a-b\" by \"a=a//b\"\n",
    "a=a//b                           #we will replace \"a=a-b\" by \"a=a//b\"\n",
    "print(\"after swapping\")         # a/b=20.0 , but a//b=20\n",
    "print(a)\n",
    "print(b)\n"
   ]
  },
  {
   "cell_type": "code",
   "execution_count": 2,
   "id": "671a6a2f",
   "metadata": {},
   "outputs": [
    {
     "name": "stdout",
     "output_type": "stream",
     "text": [
      "a= 10\n",
      "b= 20\n",
      "before swapping\n",
      "------------------------------------------------------------------------------------------------------------------------\n",
      "after swapping\n",
      "a= 20\n",
      "b= 10\n"
     ]
    }
   ],
   "source": [
    "a=10\n",
    "b=20\n",
    "print(\"a=\",a)\n",
    "print(\"b=\",b)\n",
    "print(\"before swapping\")\n",
    "print(\"------------------------------------------------------------------------------------------------------------------------\")\n",
    "temp =a                       \n",
    "a=b                                #swapping with the help of temporary variable\n",
    "\n",
    "b=temp                        \n",
    "\n",
    "print(\"after swapping\")\n",
    "print(\"a=\",a)\n",
    "print(\"b=\",b)"
   ]
  },
  {
   "cell_type": "code",
   "execution_count": 3,
   "id": "212946e8",
   "metadata": {},
   "outputs": [
    {
     "name": "stdout",
     "output_type": "stream",
     "text": [
      "a= 10\n",
      "b= 20\n",
      "before swapping\n",
      "------------------------------------------------------------------------------------------------------------------------\n",
      "after swapping\n",
      "a= 20\n",
      "b= 10\n"
     ]
    }
   ],
   "source": [
    "a=10\n",
    "b=20\n",
    "print(\"a=\",a)\n",
    "print(\"b=\",b)\n",
    "print(\"before swapping\")\n",
    "print(\"------------------------------------------------------------------------------------------------------------------------\")\n",
    "a,b=b,a                     #simply by using concept of tuple  \n",
    "\n",
    "print(\"after swapping\")\n",
    "print(\"a=\",a)\n",
    "print(\"b=\",b)"
   ]
  },
  {
   "cell_type": "code",
   "execution_count": null,
   "id": "926e12c3",
   "metadata": {},
   "outputs": [],
   "source": []
  }
 ],
 "metadata": {
  "kernelspec": {
   "display_name": "Python 3 (ipykernel)",
   "language": "python",
   "name": "python3"
  },
  "language_info": {
   "codemirror_mode": {
    "name": "ipython",
    "version": 3
   },
   "file_extension": ".py",
   "mimetype": "text/x-python",
   "name": "python",
   "nbconvert_exporter": "python",
   "pygments_lexer": "ipython3",
   "version": "3.11.3"
  }
 },
 "nbformat": 4,
 "nbformat_minor": 5
}
