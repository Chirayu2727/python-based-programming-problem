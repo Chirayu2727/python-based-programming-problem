{
  "nbformat": 4,
  "nbformat_minor": 0,
  "metadata": {
    "colab": {
      "provenance": []
    },
    "kernelspec": {
      "name": "python3",
      "display_name": "Python 3"
    },
    "language_info": {
      "name": "python"
    }
  },
  "cells": [
    {
      "cell_type": "code",
      "execution_count": 1,
      "metadata": {
        "colab": {
          "base_uri": "https://localhost:8080/"
        },
        "id": "hyCVogbtpFtj",
        "outputId": "fe2120d9-1acf-40af-8707-6ac3f7834c03"
      },
      "outputs": [
        {
          "output_type": "stream",
          "name": "stdout",
          "text": [
            "list before: []\n",
            "enter the number:4\n",
            "[]\n",
            "enter index number:1\n",
            "enter the elementt1\n",
            "enter index number:2\n",
            "enter the elementt2\n",
            "enter index number:3\n",
            "enter the elementt5\n",
            "enter index number:0\n",
            "enter the elementt21\n",
            "list: [21, 1, 2, 5]\n"
          ]
        }
      ],
      "source": [
        "ls=[]\n",
        "print(\"list before:\",ls)\n",
        "n=int(input(\"how many  number in list:\"))\n",
        "print(ls)\n",
        "for i in range(n):\n",
        "    ls.insert(int(input(\"enter index number:\")),int(input(\"enter the elementt\")))\n",
        "print(\"list:\",ls)"
      ]
    },
    {
      "cell_type": "code",
      "source": [],
      "metadata": {
        "id": "okqr0IbhpLOs"
      },
      "execution_count": null,
      "outputs": []
    }
  ]
}